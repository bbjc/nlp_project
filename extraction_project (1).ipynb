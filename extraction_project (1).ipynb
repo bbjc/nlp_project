{
 "cells": [
  {
   "cell_type": "code",
   "execution_count": 3,
   "metadata": {
    "execution": {
     "iopub.execute_input": "2025-03-10T10:02:27.816393Z",
     "iopub.status.busy": "2025-03-10T10:02:27.815168Z",
     "iopub.status.idle": "2025-03-10T10:02:36.980928Z",
     "shell.execute_reply": "2025-03-10T10:02:36.979422Z",
     "shell.execute_reply.started": "2025-03-10T10:02:27.816335Z"
    }
   },
   "outputs": [
    {
     "name": "stdout",
     "output_type": "stream",
     "text": [
      "Collecting pdfplumber\n",
      "  Downloading pdfplumber-0.11.5-py3-none-any.whl.metadata (42 kB)\n",
      "\u001b[2K     \u001b[90m━━━━━━━━━━━━━━━━━━━━━━━━━━━━━━━━━━━━━━━━\u001b[0m \u001b[32m42.5/42.5 kB\u001b[0m \u001b[31m1.0 MB/s\u001b[0m eta \u001b[36m0:00:00\u001b[0m\n",
      "\u001b[?25hCollecting pdfminer.six==20231228 (from pdfplumber)\n",
      "  Downloading pdfminer.six-20231228-py3-none-any.whl.metadata (4.2 kB)\n",
      "Requirement already satisfied: Pillow>=9.1 in /usr/local/lib/python3.11/dist-packages (from pdfplumber) (9.5.0)\n",
      "Collecting pypdfium2>=4.18.0 (from pdfplumber)\n",
      "  Downloading pypdfium2-4.30.1-py3-none-manylinux_2_17_x86_64.manylinux2014_x86_64.whl.metadata (48 kB)\n",
      "\u001b[2K     \u001b[90m━━━━━━━━━━━━━━━━━━━━━━━━━━━━━━━━━━━━━━━━\u001b[0m \u001b[32m48.2/48.2 kB\u001b[0m \u001b[31m3.6 MB/s\u001b[0m eta \u001b[36m0:00:00\u001b[0m\n",
      "\u001b[?25hRequirement already satisfied: charset-normalizer>=2.0.0 in /usr/local/lib/python3.11/dist-packages (from pdfminer.six==20231228->pdfplumber) (3.3.2)\n",
      "Collecting cryptography>=36.0.0 (from pdfminer.six==20231228->pdfplumber)\n",
      "  Downloading cryptography-44.0.2-cp39-abi3-manylinux_2_34_x86_64.whl.metadata (5.7 kB)\n",
      "Requirement already satisfied: cffi>=1.12 in /usr/local/lib/python3.11/dist-packages (from cryptography>=36.0.0->pdfminer.six==20231228->pdfplumber) (1.16.0)\n",
      "Requirement already satisfied: pycparser in /usr/local/lib/python3.11/dist-packages (from cffi>=1.12->cryptography>=36.0.0->pdfminer.six==20231228->pdfplumber) (2.21)\n",
      "Downloading pdfplumber-0.11.5-py3-none-any.whl (59 kB)\n",
      "\u001b[2K   \u001b[90m━━━━━━━━━━━━━━━━━━━━━━━━━━━━━━━━━━━━━━━━\u001b[0m \u001b[32m59.5/59.5 kB\u001b[0m \u001b[31m6.7 MB/s\u001b[0m eta \u001b[36m0:00:00\u001b[0m\n",
      "\u001b[?25hDownloading pdfminer.six-20231228-py3-none-any.whl (5.6 MB)\n",
      "\u001b[2K   \u001b[90m━━━━━━━━━━━━━━━━━━━━━━━━━━━━━━━━━━━━━━━━\u001b[0m \u001b[32m5.6/5.6 MB\u001b[0m \u001b[31m51.9 MB/s\u001b[0m eta \u001b[36m0:00:00\u001b[0m00:01\u001b[0m00:01\u001b[0m\n",
      "\u001b[?25hDownloading pypdfium2-4.30.1-py3-none-manylinux_2_17_x86_64.manylinux2014_x86_64.whl (2.9 MB)\n",
      "\u001b[2K   \u001b[90m━━━━━━━━━━━━━━━━━━━━━━━━━━━━━━━━━━━━━━━━\u001b[0m \u001b[32m2.9/2.9 MB\u001b[0m \u001b[31m56.1 MB/s\u001b[0m eta \u001b[36m0:00:00\u001b[0m00:01\u001b[0m\n",
      "\u001b[?25hDownloading cryptography-44.0.2-cp39-abi3-manylinux_2_34_x86_64.whl (4.2 MB)\n",
      "\u001b[2K   \u001b[90m━━━━━━━━━━━━━━━━━━━━━━━━━━━━━━━━━━━━━━━━\u001b[0m \u001b[32m4.2/4.2 MB\u001b[0m \u001b[31m61.2 MB/s\u001b[0m eta \u001b[36m0:00:00\u001b[0ma \u001b[36m0:00:01\u001b[0m\n",
      "\u001b[?25hInstalling collected packages: pypdfium2, cryptography, pdfminer.six, pdfplumber\n",
      "  Attempting uninstall: cryptography\n",
      "    Found existing installation: cryptography 3.4.8\n",
      "    Uninstalling cryptography-3.4.8:\n",
      "      Successfully uninstalled cryptography-3.4.8\n",
      "Successfully installed cryptography-44.0.2 pdfminer.six-20231228 pdfplumber-0.11.5 pypdfium2-4.30.1\n",
      "\u001b[33mWARNING: Running pip as the 'root' user can result in broken permissions and conflicting behaviour with the system package manager. It is recommended to use a virtual environment instead: https://pip.pypa.io/warnings/venv\u001b[0m\u001b[33m\n",
      "\u001b[0m"
     ]
    }
   ],
   "source": [
    "#!pip install langchain_core\n",
    "#!pip install langchain_openai\n",
    "#!pip install langchain\n",
    "#!pip install pdfplumber"
   ]
  },
  {
   "cell_type": "code",
   "execution_count": 4,
   "metadata": {
    "execution": {
     "iopub.execute_input": "2025-03-10T10:02:44.083775Z",
     "iopub.status.busy": "2025-03-10T10:02:44.083206Z",
     "iopub.status.idle": "2025-03-10T10:02:44.715154Z",
     "shell.execute_reply": "2025-03-10T10:02:44.713072Z",
     "shell.execute_reply.started": "2025-03-10T10:02:44.083723Z"
    }
   },
   "outputs": [
    {
     "name": "stdout",
     "output_type": "stream",
     "text": [
      "Texte extrait :\n",
      " FICHE D’ADMISSION- STATISTIQUE\n",
      "DATE D’ENTRÉE…………………………DATE DE SORTIE……………………………\n",
      "CHAMBRE FUMEUR NON-FUMEUR\n",
      "Type de chambre Chambre 12.5 m2 Chambre 14.5 m2\n",
      "ÉTAT CIVIL\n",
      "Nom : …………………………… Prénom : ……………..………… Age : …….............. Téléphone : …………………………\n",
      "Adresse Mail : ………………………………………………………………………………………………………………………………………\n",
      "Né(e) le : …………………... à : ..…….………………….. Département : ………... Nationalité : …………………………..\n",
      "Adresse : ……………………………………… Code Postal : ………………….. Ville : ….................................................\n",
      "Célibataire (cid:1) Marié (é) (cid:1) Divorcé (é) (cid:1) Veuf (ve) (cid:1)\n",
      "Adresse mail : ………………………………………………………………………………………………………………….…………………..\n",
      "En cas d’urgence contacter : ……………………………………………………………………………………………..…………………\n",
      "RÉGIME DE PENSION CHOISI\n",
      "Forfait sans repas et sans petit déjeuner (cid:1) Forfait sans repas avec petits déjeuner (cid:1)\n",
      "Forfait 20 repas + 30 petits déjeuner (cid:1) Forfait 25 repas + 30 petits déjeuner (cid:1)\n",
      "Forfait 30 repas + 30 petits déjeuner (cid:1) Forfait 45 repas + 30 petits déjeuner (cid:1)\n",
      "Forfait 60 repas + 30 petits déjeuner (cid:1)\n",
      "PARENTS\n",
      "Activité du père : Actif occupant un emploi (cid:1) Retraité (cid:1) Sans activité professionnelle (cid:1)\n",
      "Décédé (cid:1) Non renseignée (cid:1)\n",
      "Catégorie socioprofessionnelle : Agriculteurs (cid:1) Artisans, commerçants, chef d’entreprise (cid:1)\n",
      "Profession libérale, cadres supérieurs (cid:1) Employés (cid:1) Ouvriers (cid:1)\n",
      "Activité de la mère : Active occupant un emploi (cid:1) Retraitée (cid:1)\n",
      "Sans activité professionnelle (cid:1) Décédée (cid:1) Non renseignée (cid:1)\n",
      "Catégorie socioprofessionnelle : Agriculteurs (cid:1) Artisans, commerçants (cid:1)\n",
      "Profession libérale, cadres supérieurs (cid:1) Employés (cid:1) Ouvriers (cid:1)\n",
      "COMMENT AVEZ-VOUS CONNU LE FOYER ?..................................................................................\n",
      "MOTIVATION À L’ENTRÉE\n",
      "Pour se rapprocher du lieu de formation, d’étude, de travail ou de stage (cid:1)\n",
      "Pour être plus indépendant (cid:1)\n",
      "Dans l’urgence, rupture familiale ou institutionnelle (cid:1)\n",
      "Attente d’un logement (cid:1)\n",
      "16 rue Gabriel Pierné. 57000 Metz • Tél. 03 87 63 32 03 • E-mail : contact@residence-jeunes.fr • www.residence-jeunes.fr\n",
      "RAISON DE CHOIX DU LOGEMENT RÉSIDENCE JEUNES SAINTE CONSTANCE\n",
      "Pour habiter là où vivent d’autres jeunes (cid:1) Parce que c’est plus pratique, - formalités, - garantie (cid:1)\n",
      "Parce que c’est la solution logement la moins chère (cid:1) Pas d’autres solutions de logement (cid:1)\n",
      "Envoyé par un tiers institutionnel (ASE.PJJ) (cid:1)\n",
      "MODE D’HABITATION ANTÉRIEUR\n",
      "Logement autonome (cid:1) Sous location, bail glissant (cid:1) Autre FJT, résidence sociale (cid:1)\n",
      "Autre institution (cid:1) Meublé (cid:1) Hôtel (cid:1) Chez les parents (cid:1) Chez un tiers (amis, famille) (cid:1)\n",
      "NIVEAU SCOLAIRE\n",
      "Niveau primaire (cid:1) Niveau collège, 6ème, 5ème et 4ème (cid:1)\n",
      "BEPC, diplôme ou niveau 3ème (cid:1) CAP, BEP, niveau ou diplôme (cid:1)\n",
      "BAC Professionnel ou technique, niveau ou diplôme (cid:1)\n",
      "BAC général, niveau ou diplôme (cid:1) BTS, IUT, niveau ou diplôme (cid:1)\n",
      "DEUG, niveau ou diplôme (cid:1) Niveau ou diplôme de BAC + 3 et plus (cid:1)\n",
      "STATUTS SOCIO-PROFESSIONNELS\n",
      "CDI temps plein (cid:1) CDI temps partiel (cid:1)\n",
      "CDD temps plein (cid:1) CDD temps partiel (cid:1)\n",
      "Intérimaires (cid:1) Contrat de qualification (cid:1)\n",
      "Contrat d’apprentissage (CAP, BEP, BEPC) (cid:1) Contrat d’apprentissage (BAC et +) (cid:1)\n",
      "Stage rémunéré (cid:1) Stage non rémunéré (cid:1)\n",
      "Demandeur d’emploi rémunéré (cid:1) Demandeur d’emploi non rémunéré (cid:1)\n",
      "Scolaire enseignement général (cid:1) Scolaire enseignement technique (cid:1)\n",
      "Etudiant enseignement général (cid:1) Etudiant enseignant technique (cid:1)\n",
      "Employeur/Ecole : ……………………………………………………………………………………….\n",
      "RESSOURCES\n",
      "Moins de 250 Euros (cid:1) De 251 à 450 Euros (cid:1) De 451 à 610Euros\n",
      "De 611 à 765 Euros  De 766 à 915 Euros (cid:1) De 916 à 1065 Euros (cid:1) Plus de 1065 Euros \n",
      "NATURE DES RESSOURCES\n",
      "Liées à l’activité (cid:1) Relevant de l’aide à la personne (cid:1) Provenant d’un tiers (cid:1)\n",
      "Aucune ressource (cid:1)\n",
      "Les informations recueillies font l’objet d’un traitement informatique (Foyer Soft)\n",
      "Conformément à la loi « informatique et libertés » du 6 janvier 1978 modifiée en 2004, et de la RGPD applicable\n",
      "au 25 mai 2018 vous bénéficiez d’un droit d’accès et de rectification aux informations qui vous concernent, que\n",
      "vous pouvez exercer en vous adressant à l’agent d’accueil.\n",
      "16 rue Gabriel Pierné. 57000 Metz • Tél. 03 87 63 32 03 • E-mail : contact@residence-jeunes.fr • www.residence-jeunes.fr\n"
     ]
    }
   ],
   "source": [
    "import pdfplumber\n",
    "\n",
    "def extract_text_from_pdf(pdf_path):\n",
    "    text = \"\"\n",
    "    with pdfplumber.open(pdf_path) as pdf:\n",
    "        for page in pdf.pages:\n",
    "            text += page.extract_text() + \"\\n\"\n",
    "    return text.strip()\n",
    "\n",
    "# Exemple d'utilisation\n",
    "if __name__ == \"__main__\":\n",
    "    texte = extract_text_from_pdf(\"test.pdf\")\n",
    "    print(\"Texte extrait :\\n\", texte)\n"
   ]
  },
  {
   "cell_type": "code",
   "execution_count": 5,
   "metadata": {
    "execution": {
     "iopub.execute_input": "2025-03-10T10:03:39.084966Z",
     "iopub.status.busy": "2025-03-10T10:03:39.084346Z",
     "iopub.status.idle": "2025-03-10T10:04:34.360357Z",
     "shell.execute_reply": "2025-03-10T10:04:34.358740Z",
     "shell.execute_reply.started": "2025-03-10T10:03:39.084911Z"
    }
   },
   "outputs": [
    {
     "name": "stderr",
     "output_type": "stream",
     "text": [
      "2025-03-10 10:03:46.286314: E external/local_xla/xla/stream_executor/cuda/cuda_dnn.cc:9261] Unable to register cuDNN factory: Attempting to register factory for plugin cuDNN when one has already been registered\n",
      "2025-03-10 10:03:46.286435: E external/local_xla/xla/stream_executor/cuda/cuda_fft.cc:607] Unable to register cuFFT factory: Attempting to register factory for plugin cuFFT when one has already been registered\n",
      "2025-03-10 10:03:46.288797: E external/local_xla/xla/stream_executor/cuda/cuda_blas.cc:1515] Unable to register cuBLAS factory: Attempting to register factory for plugin cuBLAS when one has already been registered\n",
      "2025-03-10 10:03:46.344346: I tensorflow/core/platform/cpu_feature_guard.cc:182] This TensorFlow binary is optimized to use available CPU instructions in performance-critical operations.\n",
      "To enable the following instructions: AVX2 FMA, in other operations, rebuild TensorFlow with the appropriate compiler flags.\n",
      "2025-03-10 10:03:48.693538: W tensorflow/compiler/tf2tensorrt/utils/py_utils.cc:38] TF-TRT Warning: Could not find TensorRT\n"
     ]
    },
    {
     "data": {
      "application/vnd.jupyter.widget-view+json": {
       "model_id": "696cf04f4ea44b9a862ff9eddae9da5f",
       "version_major": 2,
       "version_minor": 0
      },
      "text/plain": [
       "config.json:   0%|          | 0.00/1.58k [00:00<?, ?B/s]"
      ]
     },
     "metadata": {},
     "output_type": "display_data"
    },
    {
     "data": {
      "application/vnd.jupyter.widget-view+json": {
       "model_id": "504ac7f3ebc34b74a43cc114f569962d",
       "version_major": 2,
       "version_minor": 0
      },
      "text/plain": [
       "model.safetensors:   0%|          | 0.00/1.63G [00:00<?, ?B/s]"
      ]
     },
     "metadata": {},
     "output_type": "display_data"
    },
    {
     "data": {
      "application/vnd.jupyter.widget-view+json": {
       "model_id": "98613b58d32b4b51911afa6c41543e89",
       "version_major": 2,
       "version_minor": 0
      },
      "text/plain": [
       "generation_config.json:   0%|          | 0.00/363 [00:00<?, ?B/s]"
      ]
     },
     "metadata": {},
     "output_type": "display_data"
    },
    {
     "data": {
      "application/vnd.jupyter.widget-view+json": {
       "model_id": "f47ccef2a20543619be722482440186c",
       "version_major": 2,
       "version_minor": 0
      },
      "text/plain": [
       "vocab.json:   0%|          | 0.00/899k [00:00<?, ?B/s]"
      ]
     },
     "metadata": {},
     "output_type": "display_data"
    },
    {
     "data": {
      "application/vnd.jupyter.widget-view+json": {
       "model_id": "2916eff485ad42bb85556d59f74a93fd",
       "version_major": 2,
       "version_minor": 0
      },
      "text/plain": [
       "merges.txt:   0%|          | 0.00/456k [00:00<?, ?B/s]"
      ]
     },
     "metadata": {},
     "output_type": "display_data"
    },
    {
     "data": {
      "application/vnd.jupyter.widget-view+json": {
       "model_id": "feaa0c0fd2ab4ffab0b0fdedf8497603",
       "version_major": 2,
       "version_minor": 0
      },
      "text/plain": [
       "tokenizer.json:   0%|          | 0.00/1.36M [00:00<?, ?B/s]"
      ]
     },
     "metadata": {},
     "output_type": "display_data"
    },
    {
     "name": "stderr",
     "output_type": "stream",
     "text": [
      "Your max_length is set to 150, but your input_length is only 144. Since this is a summarization task, where outputs shorter than the input are typically wanted, you might consider decreasing max_length manually, e.g. summarizer('...', max_length=72)\n"
     ]
    },
    {
     "name": "stdout",
     "output_type": "stream",
     "text": [
      "Résumé : L’Hôtel Vauban est un hôtel historique du centre-ville de Brest. Intégralement rénové en 2009, nous vous accueillons, 24h/24 et 7j/7, dans l’une of nos 48 chambres.\n"
     ]
    }
   ],
   "source": [
    "from transformers import pipeline\n",
    "\n",
    "summarizer = pipeline(\"summarization\", model=\"facebook/bart-large-cnn\")\n",
    "\n",
    "def summarize_text(text):\n",
    "    summary = summarizer(text, max_length=150, min_length=50, do_sample=False)\n",
    "    return summary[0]['summary_text']\n",
    "\n",
    "# Exemple d'utilisation\n",
    "if __name__ == \"__main__\":\n",
    "    texte = \"L’Hôtel Vauban est un hôtel historique du centre-ville de Brest établi en 1952. Intégralement rénové en 2009, nous vous accueillons, 24h/24 et 7j/7, dans l’une de nos 48 chambres qui disposent de tout le confort nécessaire : salle de bain privative, sèche-cheveux, télévision écran-plat, téléphone… Une connexion Wifi gratuite est accessible dans tout l’établissement\"\n",
    "    print(\"Résumé :\", summarize_text(texte))\n"
   ]
  },
  {
   "cell_type": "code",
   "execution_count": 6,
   "metadata": {
    "execution": {
     "iopub.execute_input": "2025-03-10T10:04:44.804216Z",
     "iopub.status.busy": "2025-03-10T10:04:44.803745Z",
     "iopub.status.idle": "2025-03-10T10:04:47.875305Z",
     "shell.execute_reply": "2025-03-10T10:04:47.874261Z",
     "shell.execute_reply.started": "2025-03-10T10:04:44.804164Z"
    }
   },
   "outputs": [
    {
     "name": "stdout",
     "output_type": "stream",
     "text": [
      "L'idée principale du document est de présenter l'hôtel Vauban, un établissement historique situé au centre-ville de Brest, offrant des chambres modernes et confortables aux clients.\n"
     ]
    }
   ],
   "source": [
    "from langchain_openai import ChatOpenAI\n",
    "from langchain.prompts import PromptTemplate\n",
    "from langchain.chains import LLMChain\n",
    "from langchain_core.messages import HumanMessage\n",
    "\n",
    "def ask_document_ai(question, document_text):\n",
    "    llm = ChatOpenAI(\n",
    "        openai_api_key=\"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\",\n",
    "        openai_api_base=\"https://openrouter.ai/api/v1\",\n",
    "        model_name=\"openchat/openchat-7b:free\",\n",
    "    )\n",
    "\n",
    "    prompt = f\"Document : {document_text[:1000]}...\\n\\nQuestion : {question}\\nRéponse :\"\n",
    "    response = llm.invoke([HumanMessage(content=prompt)])\n",
    "\n",
    "    return response.content\n",
    "\n",
    "# Exemple d'utilisation :\n",
    "response = ask_document_ai(\"Quelle est l'idée principale du document ?\", texte)\n",
    "print(response)\n"
   ]
  }
 ],
 "metadata": {
  "kernelspec": {
   "display_name": "Python 3 (ipykernel)",
   "language": "python",
   "name": "python3"
  },
  "language_info": {
   "codemirror_mode": {
    "name": "ipython",
    "version": 3
   },
   "file_extension": ".py",
   "mimetype": "text/x-python",
   "name": "python",
   "nbconvert_exporter": "python",
   "pygments_lexer": "ipython3",
   "version": "3.11.7"
  }
 },
 "nbformat": 4,
 "nbformat_minor": 4
}
