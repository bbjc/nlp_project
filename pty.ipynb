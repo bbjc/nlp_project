{
 "cells": [
  {
   "cell_type": "code",
   "execution_count": 1,
   "id": "a3044f6d-4a22-4f56-b3cb-9c1ec68edf34",
   "metadata": {
    "execution": {
     "iopub.execute_input": "2025-03-20T20:12:26.013269Z",
     "iopub.status.busy": "2025-03-20T20:12:26.012614Z",
     "iopub.status.idle": "2025-03-20T20:12:32.242163Z",
     "shell.execute_reply": "2025-03-20T20:12:32.241550Z",
     "shell.execute_reply.started": "2025-03-20T20:12:26.013238Z"
    }
   },
   "outputs": [],
   "source": [
    "import pandas as pd\n",
    "\n",
    "# Charger le fichier JSON\n",
    "df = pd.read_json(\"igdb_games.json\")\n",
    "\n",
    "# Sauvegarder en CSV\n",
    "df.to_csv(\"all_games.csv\", index=False)"
   ]
  }
 ],
 "metadata": {
  "kernelspec": {
   "display_name": "Python 3 (ipykernel)",
   "language": "python",
   "name": "python3"
  },
  "language_info": {
   "codemirror_mode": {
    "name": "ipython",
    "version": 3
   },
   "file_extension": ".py",
   "mimetype": "text/x-python",
   "name": "python",
   "nbconvert_exporter": "python",
   "pygments_lexer": "ipython3",
   "version": "3.11.7"
  }
 },
 "nbformat": 4,
 "nbformat_minor": 5
}
